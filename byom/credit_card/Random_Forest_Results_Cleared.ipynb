{
 "cells": [
  {
   "cell_type": "code",
   "execution_count": null,
   "id": "736c5e25",
   "metadata": {},
   "outputs": [],
   "source": [
    "#Importing libraries to connect to transcend and open table in the form of Teradata DataFrame\n",
    "from teradataml.context.context import *\n",
    "from teradataml.dataframe.dataframe import DataFrame\n",
    "import getpass\n",
    "import pandas as pd\n",
    "import numpy as np\n",
    "from teradataml.dataframe.fastload import fastload\n",
    "from teradatasqlalchemy.types import *\n",
    "from sklearn.pipeline import Pipeline\n",
    "from sklearn.preprocessing import StandardScaler\n",
    "from sklearn_pandas import DataFrameMapper\n",
    "from sklearn.ensemble import RandomForestClassifier\n",
    "import tempfile\n",
    "import warnings\n",
    "warnings.filterwarnings('ignore')\n",
    "from sklearn.impute import SimpleImputer"
   ]
  },
  {
   "cell_type": "code",
   "execution_count": null,
   "id": "ff32288b",
   "metadata": {},
   "outputs": [],
   "source": [
    "#Creating a connection to the Transcend\n",
    "create_context(host='tdprd.td.teradata.com', \n",
    "username='ka255037', password=getpass.getpass(), \n",
    "temp_database_name ='ka255037', logmech='LDAP')"
   ]
  },
  {
   "cell_type": "code",
   "execution_count": null,
   "id": "17defeb3",
   "metadata": {},
   "outputs": [],
   "source": [
    "Telco_df = DataFrame.from_query(\"select * from tm122469.Telco_Churn_Prep sample 99999\")\n",
    "Telco_df = Telco_df.to_pandas()\n",
    "pd.set_option('display.max_columns', None)\n",
    "Telco_df.head(10)"
   ]
  },
  {
   "cell_type": "code",
   "execution_count": null,
   "id": "ae5ff4db",
   "metadata": {},
   "outputs": [],
   "source": [
    "features = ['Gender', 'SeniorCitizen', 'Partner', 'Dependents',\n",
    "                     'TenureMonths',\n",
    "                     'PhoneService',\n",
    "                     'PaperlessBilling',\n",
    "                     'MonthlyCharges',\n",
    "                     'TotalCharges',\n",
    "                     'CLTV',\n",
    "                     'Age',\n",
    "                     'Under30',\n",
    "                     'Married',\n",
    "                     'NumberOfDependents',\n",
    "                     'ReferredAFriend',\n",
    "                     'NumberOfReferrals',\n",
    "                     'AvgMonthlyLongDistanceCharges',\n",
    "                     'AvgMonthlyGBDownload',\n",
    "                     'DeviceProtectionPlan',\n",
    "                     'PremiumTechSupport',\n",
    "                     'StreamingMusic',\n",
    "                     'UnlimitedData',\n",
    "                     'TotalRefunds',\n",
    "                     'TotalExtraDataCharges',\n",
    "                     'TotalLongDistanceCharges',\n",
    "                     'TotalRevenue',\n",
    "                     'SatisfactionScore',\n",
    "                     'MultipleLines_No',\n",
    "                     'MultipleLines_Yes',\n",
    "                     'InternetService_DSL',\n",
    "                     'InternetService_FiberOptic',\n",
    "                     'OnlineSecurity_No',\n",
    "                     'OnlineSecurity_Yes',\n",
    "                     'OnlineBackup_No',\n",
    "                     'OnlineBackup_Yes',\n",
    "                     'DeviceProtection_No',\n",
    "                     'DeviceProtection_Yes',\n",
    "                     'TechSupport_No',\n",
    "                     'TechSupport_Yes',\n",
    "                     'StreamingTV_No',\n",
    "                     'StreamingTV_Yes',\n",
    "                     'StreamingMovies_No',\n",
    "                     'StreamingMovies_Yes',\n",
    "                     'Contract_OneYear',\n",
    "                     'Contract_TwoYear',\n",
    "                     'PaymentMethod_AutoBankTransfer',\n",
    "                     'PaymentMethod_AutoCreditCard',\n",
    "                     'PaymentMethod_ECheck',\n",
    "                     'InternetType_Cable',\n",
    "                     'InternetType_DSL',\n",
    "                     'InternetType_FiberOptic',\n",
    "                     'Offer_OfferA',\n",
    "                     'Offer_OfferB',\n",
    "                     'Offer_OfferC',\n",
    "                     'Offer_OfferD',\n",
    "                     'Offer_OfferE']\n",
    "\n",
    " \n",
    "target = \"ChurnValue\""
   ]
  },
  {
   "cell_type": "code",
   "execution_count": null,
   "id": "ecc522de",
   "metadata": {},
   "outputs": [],
   "source": [
    "telco_X = Telco_df[features]\n",
    "telco_y = Telco_df[target]"
   ]
  },
  {
   "cell_type": "code",
   "execution_count": null,
   "id": "f3910ce4",
   "metadata": {},
   "outputs": [],
   "source": [
    "#pipeline_obj = Pipeline([\n",
    "#    (\"mapping\", DataFrameMapper([\n",
    "#    (features, StandardScaler()) , \n",
    "#    (features,SimpleImputer(missing_values=np.nan, strategy='mean'))\n",
    "#    ])),\n",
    "#    (\"rfc\", RandomForestClassifier(n_estimators = 100))\n",
    "#])\n",
    "\n",
    "#pipeline_obj.fit(Telco_df[features],Telco_df[target])"
   ]
  },
  {
   "cell_type": "code",
   "execution_count": null,
   "id": "0ee1f1c2",
   "metadata": {},
   "outputs": [],
   "source": [
    "# Remove the temp directory code and specify your system's path if you want to save and read the model from your hard drive\n",
    "#from nyoka import skl_to_pmml\n",
    "#temp_dir = tempfile.TemporaryDirectory()\n",
    "#skl_to_pmml(pipeline_obj,features,target,\"telco_churn_byom.pmml\")"
   ]
  },
  {
   "cell_type": "code",
   "execution_count": null,
   "id": "3c06a9ba",
   "metadata": {},
   "outputs": [],
   "source": [
    "classifier = RandomForestClassifier(n_estimators=10)\n",
    "pipeline_model = PMMLPipeline([('classifier', \n",
    "classifier)]).fit(telco_X, telco_y)\n",
    "from sklearn2pmml import sklearn2pmml\n",
    "sklearn2pmml(pipeline_model, 'randomforest.pmml', with_repr = True)"
   ]
  },
  {
   "cell_type": "code",
   "execution_count": null,
   "id": "f7408685",
   "metadata": {},
   "outputs": [],
   "source": [
    "#model_bytes = open(f\"{temp_dir.name}/telco_churn_byom.pmml\", \"rb\").read()\n",
    "#temp_dir.cleanup()\n",
    "model_bytes = open(\"randomforest.pmml\", \"rb\").read()"
   ]
  },
  {
   "cell_type": "code",
   "execution_count": null,
   "id": "35a3e812",
   "metadata": {},
   "outputs": [],
   "source": [
    "model_bytes"
   ]
  },
  {
   "cell_type": "code",
   "execution_count": null,
   "id": "63d6b716",
   "metadata": {},
   "outputs": [],
   "source": [
    "#Install Teradata sqlalchemy as well or else this is not working\n",
    "import sqlalchemy\n",
    "import getpass\n",
    "password = getpass.getpass()\n",
    "connection_text = 'teradatasql://whomooz/?user={}&password={}&host={}&database={}&logmech={}'\n",
    "connection_text = connection_text.format(\"ka255037\",password,\"tdprd.td.teradata.com\",\"ADLTIT_Kumar_Demos\",\"LDAP\")\n",
    "eng = sqlalchemy.create_engine(connection_text)"
   ]
  },
  {
   "cell_type": "code",
   "execution_count": null,
   "id": "9fc2698e",
   "metadata": {},
   "outputs": [],
   "source": [
    "#Create model table if it doesn’t exist\n",
    "create_cmd = '''CREATE SET TABLE pmml_models (\n",
    "  model_id VARCHAR (30),\n",
    "  model BLOB\n",
    ")\n",
    "PRIMARY INDEX (model_id);'''\n",
    "eng.execute(create_cmd)"
   ]
  },
  {
   "cell_type": "code",
   "execution_count": null,
   "id": "f1282501",
   "metadata": {},
   "outputs": [],
   "source": [
    "eng.execute(\"delete from pmml_models  where model_id = 'telco_churn_byom'\")\n",
    "modelname_param = \"telco_churn_byom\"\n",
    "insert_model = f\"insert into ADLTIT_Kumar_Demos.pmml_models (model_id, model) values(?,?);\"\n",
    "eng.execute(insert_model, modelname_param, model_bytes)"
   ]
  },
  {
   "cell_type": "code",
   "execution_count": null,
   "id": "fbae795c",
   "metadata": {},
   "outputs": [],
   "source": [
    "qp_drop = \"drop table ADLTIT_Kumar_Demos.telco_pred_results;\"\n",
    "eng.execute(qp_drop)\n",
    "q_p = '''create table ADLTIT_Kumar_Demos.telco_pred_results as (select * from TRNG_BYOM.PMMLPredict( on (select * from \"tm122469\".\"Telco_Churn_Prep\") on (select * from pmml_models where model_id = 'telco_churn_byom') DIMENSION using Accumulate('*') ) td sample 100) with data;'''\n",
    "telco_pred = eng.execute(q_p)"
   ]
  },
  {
   "cell_type": "code",
   "execution_count": null,
   "id": "b038811a",
   "metadata": {},
   "outputs": [],
   "source": [
    "telco_pred = DataFrame.from_query(\"select * from ADLTIT_Kumar_Demos.telco_pred_results;\")\n",
    "telco_pred = telco_pred.to_pandas()\n",
    "pd.set_option('display.max_columns', None)\n",
    "telco_pred.head(10)"
   ]
  },
  {
   "cell_type": "code",
   "execution_count": null,
   "id": "5d653ccf",
   "metadata": {},
   "outputs": [],
   "source": []
  }
 ],
 "metadata": {
  "kernelspec": {
   "display_name": "Python 3",
   "language": "python",
   "name": "python3"
  },
  "language_info": {
   "codemirror_mode": {
    "name": "ipython",
    "version": 3
   },
   "file_extension": ".py",
   "mimetype": "text/x-python",
   "name": "python",
   "nbconvert_exporter": "python",
   "pygments_lexer": "ipython3",
   "version": "3.8.8"
  }
 },
 "nbformat": 4,
 "nbformat_minor": 5
}
