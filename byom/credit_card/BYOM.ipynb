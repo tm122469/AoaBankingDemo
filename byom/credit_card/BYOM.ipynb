{
 "cells": [
  {
   "cell_type": "code",
   "execution_count": 1,
   "metadata": {},
   "outputs": [
    {
     "name": "stdin",
     "output_type": "stream",
     "text": [
      "Password: ··········\n"
     ]
    },
    {
     "name": "stdout",
     "output_type": "stream",
     "text": [
      "Success: 'AOA DEMO' connection established and activated for user 'AOA_DEMO'\n"
     ]
    }
   ],
   "source": [
    "%connect \"AOA DEMO\""
   ]
  },
  {
   "cell_type": "code",
   "execution_count": 5,
   "metadata": {},
   "outputs": [
    {
     "data": {
      "application/vnd.teradata.resultset": "[{\"deployed_at\":\"2021-08-12 13:36:16.050000\",\"model_id\":\"2baa77c4-e63f-4213-a59d-89e8545024e4\",\"model_version\":\"81efb953-7c72-494d-a404-363ad4aa4352\"}]\n",
      "text/html": [
       "<div class = \"td-resultset-table-div\" style = \"max-height: 84px; overflow-y: auto\">\n",
       "  <table class=\"tdhistory523712\"><style>\n",
       "    table.tdhistory523712 { display: block !important; min-height: 84px !important; overflow: auto !important; height: 84px !important; width: 100% !important; border: 1px solid rgb(207, 207, 207) !important; border-collapse: collapse !important; ; color: var(--jp-ui-font-color1) !important; }\n",
       "    th.tdhistory523712 { border: 1px solid rgb(198,198,198) !important; border-collapse: collapse !important; ; padding: 2px 5px !important; ; font-size: 13px !important; ; text-align: center !important; white-space: normal !important; color: var(--jp-ui-font-color1) !important; }\n",
       "    th.tdhistory523712:last-child { text-align: left !important; }\n",
       "    tbody.tdhistory523712 tr:nth-child(even) { background: rgba(243, 243, 243, 0.75) !important; }\n",
       "    tbody.tdhistory523712 tr:nth-child(odd) { background: var(--jp-ui-inverse-font-color1) !important; }\n",
       "  td.tdhistory523712 { border: 1px solid rgb(207, 207, 207) !important; border-collapse: collapse !important; ; padding: 2px 5px !important; ; font-size: 13px !important; ; min-width:150px !important; max-width: 150px !important;text-align: left !important;        white-space: nowrap !important; overflow:hidden !important; text-overflow:ellipsis !important;; }\n",
       "  </style><thead><tr style= \"background: #bababa;\"><th class=\"tdhistory523712\">model_id</th><th class=\"tdhistory523712\">model_version</th><th class=\"tdhistory523712\">deployed_at</th></tr></thead><tbody class=\"tdhistory523712 resultset-body\"><tr><td class=\"tdhistory523712\">2baa77c4-e63f-4213-a59d-89e8545024e4</td><td class=\"tdhistory523712\">81efb953-7c72-494d-a404-363ad4aa4352</td><td class=\"tdhistory523712\">2021-08-12 13:36:16.050000</td></tr></tbody></table></div>"
      ]
     },
     "execution_count": 5,
     "metadata": {
      "application/vnd.teradata.resultset": "{\"resultSetID\":\"/home/jovyan/JupyterLabRoot/Teradata/Resultsets/2021.08.12_13.38.42.903_UTC\",\"historyID\":96,\"chunkID\":\"00001\",\"sessionid\":\"\",\"portnum\":\"\",\"dockermode\":\"docker\",\"totalRowCount\":1,\"chunkCount\":0,\"rowLimit\":0,\"columnMetadata\":[{\"columnName\":\"model_id\",\"columnTypeName\":\"VARCHAR\",\"length\":255,\"scale\":255},{\"columnNumber\":1,\"columnName\":\"model_version\",\"columnTypeName\":\"VARCHAR\",\"length\":255,\"scale\":255},{\"columnNumber\":2,\"columnName\":\"deployed_at\",\"columnTypeName\":\"TIMESTAMP\",\"length\":6,\"scale\":6}]}"
     },
     "output_type": "execute_result"
    }
   ],
   "source": [
    "select top 1 model_id, model_version, deployed_at from aoa_ivsm_models order by deployed_at desc"
   ]
  },
  {
   "cell_type": "code",
   "execution_count": 1,
   "metadata": {},
   "outputs": [
    {
     "ename": "ERROR",
     "evalue": "No active connection",
     "output_type": "error",
     "traceback": [
      "No active connection"
     ]
    }
   ],
   "source": [
    "-- issue with the BYOM predict in that it produces some incorrect predictions for this model.. Might be version of ivsm.\n",
    "-- for now just filter them out \n",
    "SELECT cust_id, y_test, CAST(y_pred AS INT) FROM (\n",
    "    SELECT cust_id, cc_acct_ind as y_test, CAST(score_result AS JSON).JSONExtractValue('$.predicted_cc_acct_ind') as y_pred FROM IVSM.IVSM_SCORE(\n",
    "                ON (SELECT * FROM bank_features_test_v) AS DataTable\n",
    "                ON (SELECT model_id, model FROM aoa_ivsm_models WHERE model_version = '81efb953-7c72-494d-a404-363ad4aa4352') AS ModelTable DIMENSION\n",
    "                USING\n",
    "                    ModelID('2baa77c4-e63f-4213-a59d-89e8545024e4')\n",
    "                    ColumnsToPreserve('cust_id', 'cc_acct_ind')\n",
    "                    ModelType('PMML')\n",
    "            ) sc\n",
    "    ) T WHERE T.y_pred=0 OR T.y_pred=1;"
   ]
  },
  {
   "cell_type": "code",
   "execution_count": null,
   "metadata": {},
   "outputs": [],
   "source": []
  }
 ],
 "metadata": {
  "kernelspec": {
   "display_name": "Teradata SQL",
   "language": "Teradata SQL",
   "name": "teradatasql"
  },
  "language_info": {
   "codemirror_mode": "Teradata SQL",
   "file_extension": ".tdrs",
   "mimetype": "application/vnd.teradata.resultset",
   "name": "Teradata SQL",
   "nbconvert_exporter": "",
   "pygments_lexer": "",
   "version": "16.20"
  }
 },
 "nbformat": 4,
 "nbformat_minor": 4
}
