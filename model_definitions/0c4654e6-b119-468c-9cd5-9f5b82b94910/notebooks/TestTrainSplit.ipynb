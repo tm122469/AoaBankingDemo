{
 "cells": [
  {
   "cell_type": "code",
   "execution_count": 2,
   "metadata": {},
   "outputs": [
    {
     "name": "stdin",
     "output_type": "stream",
     "text": [
      "Password: ··········\n"
     ]
    },
    {
     "name": "stdout",
     "output_type": "stream",
     "text": [
      "Success: 'AOA DEMO' connection established and activated for user 'AOA_DEMO'\n"
     ]
    }
   ],
   "source": [
    "%connect \"AOA DEMO\""
   ]
  },
  {
   "cell_type": "markdown",
   "metadata": {},
   "source": [
    "### Split Features\n",
    "\n",
    "Split into a test/train features which can be used cleanly via AnalyticOps and ensure we have repeatability (i.e. we get the same test/train split each time we run this training etc.). Repeatability requires that the split is stored as a table with the key and split id as running sample each time we use it will result in a different dataset being returned when the underying dataset changes (i.e. in the real world). We chose an 80/20 split in this example. \n",
    "\n",
    "Note that we are working to support this spliting automatically via the AnalyticOps UI (Q4 2021) and a high level feature store SDK (prototype available). These will allow us to manage the split adapting over time and ensuring we know which model versions related to which splits even in dynamic scenarios. They will also create the views and access layers dynamically and transparently for the data scientist.\n"
   ]
  },
  {
   "cell_type": "code",
   "execution_count": 19,
   "metadata": {},
   "outputs": [
    {
     "data": {
      "text/plain": [
       "Success: 0 rows affected"
      ]
     },
     "execution_count": 19,
     "metadata": {
      "application/vnd.teradata.resultset": ""
     },
     "output_type": "execute_result"
    }
   ],
   "source": [
    "CREATE TABLE telco_features_split AS (\n",
    "   SELECT\n",
    "      CustomerID, SAMPLEID split_id\n",
    "   FROM telco_features b \n",
    "   SAMPLE 0.8, 0.2 )\n",
    "WITH DATA;"
   ]
  },
  {
   "cell_type": "code",
   "execution_count": 20,
   "metadata": {},
   "outputs": [
    {
     "data": {
      "text/plain": [
       "Success: 30 rows affected"
      ]
     },
     "execution_count": 20,
     "metadata": {
      "application/vnd.teradata.resultset": ""
     },
     "output_type": "execute_result"
    }
   ],
   "source": [
    "REPLACE VIEW telco_features_train_v AS (\n",
    "    SELECT F.* FROM telco_features F  JOIN telco_features_split S \n",
    "    ON F.CustomerID = S.CustomerID\n",
    "    WHERE S.split_id = 1\n",
    ")"
   ]
  },
  {
   "cell_type": "code",
   "execution_count": 21,
   "metadata": {},
   "outputs": [
    {
     "data": {
      "text/plain": [
       "Success: 30 rows affected"
      ]
     },
     "execution_count": 21,
     "metadata": {
      "application/vnd.teradata.resultset": ""
     },
     "output_type": "execute_result"
    }
   ],
   "source": [
    "REPLACE VIEW telco_features_test_v AS (\n",
    "    SELECT F.* FROM telco_features F  JOIN telco_features_split S \n",
    "    ON F.CustomerID = S.CustomerID\n",
    "    WHERE S.split_id = 2\n",
    ")"
   ]
  },
  {
   "cell_type": "code",
   "execution_count": 3,
   "metadata": {},
   "outputs": [
    {
     "data": {
      "application/vnd.teradata.resultset": "[{\"Count(*)\":\"7448\"}]\n",
      "text/html": [
       "<div class = \"td-resultset-table-div\" style = \"max-height: 84px; overflow-y: auto\">\n",
       "  <table class=\"tdhistory201571\"><style>\n",
       "    table.tdhistory201571 { display: block !important; min-height: 84px !important; overflow: auto !important; height: 84px !important; width: 100% !important; border: 1px solid rgb(207, 207, 207) !important; border-collapse: collapse !important; ; color: var(--jp-ui-font-color1) !important; }\n",
       "    th.tdhistory201571 { border: 1px solid rgb(198,198,198) !important; border-collapse: collapse !important; ; padding: 2px 5px !important; ; font-size: 13px !important; ; text-align: center !important; white-space: normal !important; color: var(--jp-ui-font-color1) !important; }\n",
       "    th.tdhistory201571:last-child { text-align: left !important; }\n",
       "    tbody.tdhistory201571 tr:nth-child(even) { background: rgba(243, 243, 243, 0.75) !important; }\n",
       "    tbody.tdhistory201571 tr:nth-child(odd) { background: var(--jp-ui-inverse-font-color1) !important; }\n",
       "  td.tdhistory201571 { border: 1px solid rgb(207, 207, 207) !important; border-collapse: collapse !important; ; padding: 2px 5px !important; ; font-size: 13px !important; ; min-width:150px !important; max-width: 150px !important;text-align: left !important;        white-space: nowrap !important; overflow:hidden !important; text-overflow:ellipsis !important;; }\n",
       "  </style><thead><tr style= \"background: #bababa;\"><th class=\"tdhistory201571\">Count(*)</th></tr></thead><tbody class=\"tdhistory201571 resultset-body\"><tr><td class=\"tdhistory201571\">7448</td></tr></tbody></table></div>"
      ]
     },
     "execution_count": 3,
     "metadata": {
      "application/vnd.teradata.resultset": "{\"resultSetID\":\"/home/jovyan/JupyterLabRoot/Teradata/Resultsets/2021.08.12_14.36.48.235_UTC\",\"historyID\":106,\"chunkID\":\"00001\",\"sessionid\":\"\",\"portnum\":\"\",\"dockermode\":\"docker\",\"totalRowCount\":1,\"chunkCount\":0,\"rowLimit\":0,\"columnMetadata\":[{\"columnName\":\"Count(*)\",\"columnTypeName\":\"INTEGER\"}]}"
     },
     "output_type": "execute_result"
    }
   ],
   "source": [
    "SELECT count(*) from bank_features_train_v"
   ]
  },
  {
   "cell_type": "code",
   "execution_count": 4,
   "metadata": {},
   "outputs": [
    {
     "data": {
      "application/vnd.teradata.resultset": "[{\"Count(*)\":\"1862\"}]\n",
      "text/html": [
       "<div class = \"td-resultset-table-div\" style = \"max-height: 84px; overflow-y: auto\">\n",
       "  <table class=\"tdhistory151432\"><style>\n",
       "    table.tdhistory151432 { display: block !important; min-height: 84px !important; overflow: auto !important; height: 84px !important; width: 100% !important; border: 1px solid rgb(207, 207, 207) !important; border-collapse: collapse !important; ; color: var(--jp-ui-font-color1) !important; }\n",
       "    th.tdhistory151432 { border: 1px solid rgb(198,198,198) !important; border-collapse: collapse !important; ; padding: 2px 5px !important; ; font-size: 13px !important; ; text-align: center !important; white-space: normal !important; color: var(--jp-ui-font-color1) !important; }\n",
       "    th.tdhistory151432:last-child { text-align: left !important; }\n",
       "    tbody.tdhistory151432 tr:nth-child(even) { background: rgba(243, 243, 243, 0.75) !important; }\n",
       "    tbody.tdhistory151432 tr:nth-child(odd) { background: var(--jp-ui-inverse-font-color1) !important; }\n",
       "  td.tdhistory151432 { border: 1px solid rgb(207, 207, 207) !important; border-collapse: collapse !important; ; padding: 2px 5px !important; ; font-size: 13px !important; ; min-width:150px !important; max-width: 150px !important;text-align: left !important;        white-space: nowrap !important; overflow:hidden !important; text-overflow:ellipsis !important;; }\n",
       "  </style><thead><tr style= \"background: #bababa;\"><th class=\"tdhistory151432\">Count(*)</th></tr></thead><tbody class=\"tdhistory151432 resultset-body\"><tr><td class=\"tdhistory151432\">1862</td></tr></tbody></table></div>"
      ]
     },
     "execution_count": 4,
     "metadata": {
      "application/vnd.teradata.resultset": "{\"resultSetID\":\"/home/jovyan/JupyterLabRoot/Teradata/Resultsets/2021.08.12_14.36.50.850_UTC\",\"historyID\":107,\"chunkID\":\"00001\",\"sessionid\":\"\",\"portnum\":\"\",\"dockermode\":\"docker\",\"totalRowCount\":1,\"chunkCount\":0,\"rowLimit\":0,\"columnMetadata\":[{\"columnName\":\"Count(*)\",\"columnTypeName\":\"INTEGER\"}]}"
     },
     "output_type": "execute_result"
    }
   ],
   "source": [
    "SELECT count(*) from bank_features_test_v"
   ]
  },
  {
   "cell_type": "code",
   "execution_count": null,
   "metadata": {},
   "outputs": [],
   "source": []
  }
 ],
 "metadata": {
  "kernelspec": {
   "display_name": "Teradata SQL",
   "language": "Teradata SQL",
   "name": "teradatasql"
  },
  "language_info": {
   "codemirror_mode": "Teradata SQL",
   "file_extension": ".tdrs",
   "mimetype": "application/vnd.teradata.resultset",
   "name": "Teradata SQL",
   "nbconvert_exporter": "",
   "pygments_lexer": "",
   "version": "16.20"
  }
 },
 "nbformat": 4,
 "nbformat_minor": 4
}
